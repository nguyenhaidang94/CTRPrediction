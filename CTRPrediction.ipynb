{
  "nbformat": 4,
  "nbformat_minor": 0,
  "metadata": {
    "colab": {
      "name": "CTRPrediction.ipynb",
      "provenance": [],
      "collapsed_sections": [
        "4cu638Mif88Y",
        "30O73SYTt68X",
        "RSyHCEHf3BIS",
        "ZTEG2EkgNEAP",
        "cIhOFVXsYpNf",
        "y0nuThul4-u2"
      ],
      "authorship_tag": "ABX9TyP79peKWdNb/UPu1z5G11Lk",
      "include_colab_link": true
    },
    "kernelspec": {
      "name": "python3",
      "display_name": "Python 3"
    },
    "language_info": {
      "name": "python"
    },
    "accelerator": "GPU"
  },
  "cells": [
    {
      "cell_type": "markdown",
      "metadata": {
        "id": "view-in-github",
        "colab_type": "text"
      },
      "source": [
        "<a href=\"https://colab.research.google.com/github/nguyenhaidang94/CTRPrediction/blob/main/CTRPrediction.ipynb\" target=\"_parent\"><img src=\"https://colab.research.google.com/assets/colab-badge.svg\" alt=\"Open In Colab\"/></a>"
      ]
    },
    {
      "cell_type": "code",
      "metadata": {
        "colab": {
          "base_uri": "https://localhost:8080/"
        },
        "id": "I1WjbJcXtjR4",
        "outputId": "d1baf21e-f6df-4dcd-9b16-1fed8cd87f76"
      },
      "source": [
        "!pip install scikit-learn==0.24.2\n",
        "!pip install seaborn"
      ],
      "execution_count": null,
      "outputs": [
        {
          "output_type": "stream",
          "text": [
            "Collecting scikit-learn==0.24.2\n",
            "  Downloading scikit_learn-0.24.2-cp37-cp37m-manylinux2010_x86_64.whl (22.3 MB)\n",
            "\u001b[K     |████████████████████████████████| 22.3 MB 1.3 MB/s \n",
            "\u001b[?25hRequirement already satisfied: numpy>=1.13.3 in /usr/local/lib/python3.7/dist-packages (from scikit-learn==0.24.2) (1.19.5)\n",
            "Collecting threadpoolctl>=2.0.0\n",
            "  Downloading threadpoolctl-2.2.0-py3-none-any.whl (12 kB)\n",
            "Requirement already satisfied: scipy>=0.19.1 in /usr/local/lib/python3.7/dist-packages (from scikit-learn==0.24.2) (1.4.1)\n",
            "Requirement already satisfied: joblib>=0.11 in /usr/local/lib/python3.7/dist-packages (from scikit-learn==0.24.2) (1.0.1)\n",
            "Installing collected packages: threadpoolctl, scikit-learn\n",
            "  Attempting uninstall: scikit-learn\n",
            "    Found existing installation: scikit-learn 0.22.2.post1\n",
            "    Uninstalling scikit-learn-0.22.2.post1:\n",
            "      Successfully uninstalled scikit-learn-0.22.2.post1\n",
            "Successfully installed scikit-learn-0.24.2 threadpoolctl-2.2.0\n",
            "Requirement already satisfied: seaborn in /usr/local/lib/python3.7/dist-packages (0.11.1)\n",
            "Requirement already satisfied: scipy>=1.0 in /usr/local/lib/python3.7/dist-packages (from seaborn) (1.4.1)\n",
            "Requirement already satisfied: matplotlib>=2.2 in /usr/local/lib/python3.7/dist-packages (from seaborn) (3.2.2)\n",
            "Requirement already satisfied: numpy>=1.15 in /usr/local/lib/python3.7/dist-packages (from seaborn) (1.19.5)\n",
            "Requirement already satisfied: pandas>=0.23 in /usr/local/lib/python3.7/dist-packages (from seaborn) (1.1.5)\n",
            "Requirement already satisfied: python-dateutil>=2.1 in /usr/local/lib/python3.7/dist-packages (from matplotlib>=2.2->seaborn) (2.8.2)\n",
            "Requirement already satisfied: cycler>=0.10 in /usr/local/lib/python3.7/dist-packages (from matplotlib>=2.2->seaborn) (0.10.0)\n",
            "Requirement already satisfied: pyparsing!=2.0.4,!=2.1.2,!=2.1.6,>=2.0.1 in /usr/local/lib/python3.7/dist-packages (from matplotlib>=2.2->seaborn) (2.4.7)\n",
            "Requirement already satisfied: kiwisolver>=1.0.1 in /usr/local/lib/python3.7/dist-packages (from matplotlib>=2.2->seaborn) (1.3.1)\n",
            "Requirement already satisfied: six in /usr/local/lib/python3.7/dist-packages (from cycler>=0.10->matplotlib>=2.2->seaborn) (1.15.0)\n",
            "Requirement already satisfied: pytz>=2017.2 in /usr/local/lib/python3.7/dist-packages (from pandas>=0.23->seaborn) (2018.9)\n"
          ],
          "name": "stdout"
        }
      ]
    },
    {
      "cell_type": "code",
      "metadata": {
        "id": "8iOzDeQ7f3y9"
      },
      "source": [
        "import pandas as pd\n",
        "import numpy as np\n",
        "import seaborn as sns\n",
        "import scipy\n",
        "from sklearn.preprocessing import OneHotEncoder\n",
        "from sklearn.model_selection import train_test_split\n",
        "from sklearn.linear_model import Ridge\n",
        "from sklearn.tree import DecisionTreeRegressor\n",
        "from sklearn.ensemble import RandomForestRegressor\n",
        "from sklearn.model_selection import GridSearchCV\n",
        "\n",
        "sns.set_theme()"
      ],
      "execution_count": null,
      "outputs": []
    },
    {
      "cell_type": "markdown",
      "metadata": {
        "id": "4cu638Mif88Y"
      },
      "source": [
        "# Data Exploration"
      ]
    },
    {
      "cell_type": "code",
      "metadata": {
        "colab": {
          "base_uri": "https://localhost:8080/",
          "height": 398
        },
        "id": "KYMsZDYMf7Ed",
        "outputId": "47e05a71-1c49-49e2-9ded-739034fd5df1"
      },
      "source": [
        "train_data = pd.read_csv(\"Interview Dataset Rakuten Advertising Train Set\")\n",
        "test_data = pd.read_csv(\"Interview Dataset Rakuten Advertising Test Set\")\n",
        "train_data.head()"
      ],
      "execution_count": null,
      "outputs": [
        {
          "output_type": "execute_result",
          "data": {
            "text/html": [
              "<div>\n",
              "<style scoped>\n",
              "    .dataframe tbody tr th:only-of-type {\n",
              "        vertical-align: middle;\n",
              "    }\n",
              "\n",
              "    .dataframe tbody tr th {\n",
              "        vertical-align: top;\n",
              "    }\n",
              "\n",
              "    .dataframe thead th {\n",
              "        text-align: right;\n",
              "    }\n",
              "</style>\n",
              "<table border=\"1\" class=\"dataframe\">\n",
              "  <thead>\n",
              "    <tr style=\"text-align: right;\">\n",
              "      <th></th>\n",
              "      <th>date</th>\n",
              "      <th>zone_id</th>\n",
              "      <th>media_id</th>\n",
              "      <th>advertiser_id</th>\n",
              "      <th>campaign_id</th>\n",
              "      <th>domain</th>\n",
              "      <th>visibility</th>\n",
              "      <th>ad_id</th>\n",
              "      <th>width</th>\n",
              "      <th>height</th>\n",
              "      <th>country_ref</th>\n",
              "      <th>device</th>\n",
              "      <th>imps</th>\n",
              "      <th>clicks</th>\n",
              "    </tr>\n",
              "  </thead>\n",
              "  <tbody>\n",
              "    <tr>\n",
              "      <th>0</th>\n",
              "      <td>2017-05-02 00:00:00</td>\n",
              "      <td>2794</td>\n",
              "      <td>149</td>\n",
              "      <td>3206</td>\n",
              "      <td>16034</td>\n",
              "      <td>fatsecret.com</td>\n",
              "      <td>1.0</td>\n",
              "      <td>14885</td>\n",
              "      <td>250</td>\n",
              "      <td>250</td>\n",
              "      <td>US</td>\n",
              "      <td>safari</td>\n",
              "      <td>1</td>\n",
              "      <td>0</td>\n",
              "    </tr>\n",
              "    <tr>\n",
              "      <th>1</th>\n",
              "      <td>2017-05-06 00:00:00</td>\n",
              "      <td>879</td>\n",
              "      <td>77</td>\n",
              "      <td>1612</td>\n",
              "      <td>8060</td>\n",
              "      <td>sfrregie.com</td>\n",
              "      <td>NaN</td>\n",
              "      <td>7126</td>\n",
              "      <td>300</td>\n",
              "      <td>250</td>\n",
              "      <td>FR</td>\n",
              "      <td>firefox</td>\n",
              "      <td>2</td>\n",
              "      <td>0</td>\n",
              "    </tr>\n",
              "    <tr>\n",
              "      <th>2</th>\n",
              "      <td>2017-05-07 00:00:00</td>\n",
              "      <td>1321</td>\n",
              "      <td>119</td>\n",
              "      <td>2061</td>\n",
              "      <td>10306</td>\n",
              "      <td>alberghiera.it</td>\n",
              "      <td>2.0</td>\n",
              "      <td>11696</td>\n",
              "      <td>320</td>\n",
              "      <td>50</td>\n",
              "      <td>IT</td>\n",
              "      <td>iosPhone</td>\n",
              "      <td>1</td>\n",
              "      <td>0</td>\n",
              "    </tr>\n",
              "    <tr>\n",
              "      <th>3</th>\n",
              "      <td>2017-05-04 00:00:00</td>\n",
              "      <td>2347</td>\n",
              "      <td>77</td>\n",
              "      <td>1605</td>\n",
              "      <td>8029</td>\n",
              "      <td>visorando.com</td>\n",
              "      <td>NaN</td>\n",
              "      <td>5837</td>\n",
              "      <td>1000</td>\n",
              "      <td>90</td>\n",
              "      <td>FR</td>\n",
              "      <td>firefox</td>\n",
              "      <td>1</td>\n",
              "      <td>0</td>\n",
              "    </tr>\n",
              "    <tr>\n",
              "      <th>4</th>\n",
              "      <td>2017-05-02 00:00:00</td>\n",
              "      <td>931</td>\n",
              "      <td>90</td>\n",
              "      <td>1604</td>\n",
              "      <td>8023</td>\n",
              "      <td>pblv-plusbellelavie.fr</td>\n",
              "      <td>NaN</td>\n",
              "      <td>7414</td>\n",
              "      <td>300</td>\n",
              "      <td>250</td>\n",
              "      <td>FR</td>\n",
              "      <td>firefox</td>\n",
              "      <td>1</td>\n",
              "      <td>0</td>\n",
              "    </tr>\n",
              "  </tbody>\n",
              "</table>\n",
              "</div>"
            ],
            "text/plain": [
              "                  date  zone_id  media_id  ...    device  imps clicks\n",
              "0  2017-05-02 00:00:00     2794       149  ...    safari     1      0\n",
              "1  2017-05-06 00:00:00      879        77  ...   firefox     2      0\n",
              "2  2017-05-07 00:00:00     1321       119  ...  iosPhone     1      0\n",
              "3  2017-05-04 00:00:00     2347        77  ...   firefox     1      0\n",
              "4  2017-05-02 00:00:00      931        90  ...   firefox     1      0\n",
              "\n",
              "[5 rows x 14 columns]"
            ]
          },
          "metadata": {},
          "execution_count": 5
        }
      ]
    },
    {
      "cell_type": "code",
      "metadata": {
        "colab": {
          "base_uri": "https://localhost:8080/"
        },
        "id": "DDbJK6cagB9T",
        "outputId": "9afb3bf9-faeb-4a11-9ac8-3c7f2c36de4b"
      },
      "source": [
        "print(\"Number of samples in train:\", train_data.shape[0])\n",
        "print(\"Number of features in train:\", train_data.shape[1])\n",
        "print(\"Missing values by features:\")\n",
        "print(train_data.isnull().sum())\n",
        "\n",
        "print(\"\\nNumber of samples in test:\", test_data.shape[0])\n",
        "print(\"Number of features in test:\", test_data.shape[1])\n",
        "print(\"Missing values by features:\")\n",
        "print(test_data.isnull().sum())"
      ],
      "execution_count": null,
      "outputs": [
        {
          "output_type": "stream",
          "text": [
            "Number of samples in train: 5395051\n",
            "Number of features in train: 14\n",
            "Missing values by features:\n",
            "date                   0\n",
            "zone_id                0\n",
            "media_id               0\n",
            "advertiser_id          0\n",
            "campaign_id            0\n",
            "domain             95533\n",
            "visibility       2617589\n",
            "ad_id                  0\n",
            "width                  0\n",
            "height                 0\n",
            "country_ref            0\n",
            "device                 0\n",
            "imps                   0\n",
            "clicks                 0\n",
            "dtype: int64\n",
            "\n",
            "Number of samples in test: 2019086\n",
            "Number of features in test: 13\n",
            "Missing values by features:\n",
            "date                   0\n",
            "zone_id                0\n",
            "media_id               0\n",
            "advertiser_id          0\n",
            "campaign_id            0\n",
            "domain             33075\n",
            "visibility       1032067\n",
            "ad_id                  0\n",
            "width                  0\n",
            "height                 0\n",
            "country_ref            0\n",
            "device                 0\n",
            "imps                   0\n",
            "dtype: int64\n"
          ],
          "name": "stdout"
        }
      ]
    },
    {
      "cell_type": "markdown",
      "metadata": {
        "id": "In7MCwA3lxUz"
      },
      "source": [
        "There are missing values in two features \"domain\" and \"visibility\"."
      ]
    },
    {
      "cell_type": "code",
      "metadata": {
        "id": "3Vsw6IMxlSlb"
      },
      "source": [
        "# compute click-through rate\n",
        "train_data[\"ctr\"] = train_data[\"clicks\"] / train_data[\"imps\"]"
      ],
      "execution_count": null,
      "outputs": []
    },
    {
      "cell_type": "code",
      "metadata": {
        "colab": {
          "base_uri": "https://localhost:8080/",
          "height": 337
        },
        "id": "oRWVyEHdjwV_",
        "outputId": "33aba49c-2a86-4bab-b840-bde4e20994a2"
      },
      "source": [
        "print(\"data description:\")\n",
        "train_data.describe()"
      ],
      "execution_count": null,
      "outputs": [
        {
          "output_type": "stream",
          "text": [
            "data description:\n"
          ],
          "name": "stdout"
        },
        {
          "output_type": "execute_result",
          "data": {
            "text/html": [
              "<div>\n",
              "<style scoped>\n",
              "    .dataframe tbody tr th:only-of-type {\n",
              "        vertical-align: middle;\n",
              "    }\n",
              "\n",
              "    .dataframe tbody tr th {\n",
              "        vertical-align: top;\n",
              "    }\n",
              "\n",
              "    .dataframe thead th {\n",
              "        text-align: right;\n",
              "    }\n",
              "</style>\n",
              "<table border=\"1\" class=\"dataframe\">\n",
              "  <thead>\n",
              "    <tr style=\"text-align: right;\">\n",
              "      <th></th>\n",
              "      <th>zone_id</th>\n",
              "      <th>media_id</th>\n",
              "      <th>advertiser_id</th>\n",
              "      <th>campaign_id</th>\n",
              "      <th>visibility</th>\n",
              "      <th>ad_id</th>\n",
              "      <th>width</th>\n",
              "      <th>height</th>\n",
              "      <th>imps</th>\n",
              "      <th>clicks</th>\n",
              "      <th>ctr</th>\n",
              "    </tr>\n",
              "  </thead>\n",
              "  <tbody>\n",
              "    <tr>\n",
              "      <th>count</th>\n",
              "      <td>5.395051e+06</td>\n",
              "      <td>5.395051e+06</td>\n",
              "      <td>5.395051e+06</td>\n",
              "      <td>5.395051e+06</td>\n",
              "      <td>2.777462e+06</td>\n",
              "      <td>5.395051e+06</td>\n",
              "      <td>5.395051e+06</td>\n",
              "      <td>5.395051e+06</td>\n",
              "      <td>5.395051e+06</td>\n",
              "      <td>5.395051e+06</td>\n",
              "      <td>5.395051e+06</td>\n",
              "    </tr>\n",
              "    <tr>\n",
              "      <th>mean</th>\n",
              "      <td>1.058986e+03</td>\n",
              "      <td>8.625012e+01</td>\n",
              "      <td>1.642347e+03</td>\n",
              "      <td>8.213575e+03</td>\n",
              "      <td>1.559608e+00</td>\n",
              "      <td>6.769758e+03</td>\n",
              "      <td>4.388122e+02</td>\n",
              "      <td>2.712985e+02</td>\n",
              "      <td>3.463554e+00</td>\n",
              "      <td>7.590568e-02</td>\n",
              "      <td>2.352945e-02</td>\n",
              "    </tr>\n",
              "    <tr>\n",
              "      <th>std</th>\n",
              "      <td>6.130215e+02</td>\n",
              "      <td>2.883187e+01</td>\n",
              "      <td>4.994399e+02</td>\n",
              "      <td>2.497179e+03</td>\n",
              "      <td>4.964342e-01</td>\n",
              "      <td>3.529216e+03</td>\n",
              "      <td>2.883020e+02</td>\n",
              "      <td>2.115282e+02</td>\n",
              "      <td>3.100167e+01</td>\n",
              "      <td>1.310036e+00</td>\n",
              "      <td>1.421493e-01</td>\n",
              "    </tr>\n",
              "    <tr>\n",
              "      <th>min</th>\n",
              "      <td>1.000000e+00</td>\n",
              "      <td>1.000000e+00</td>\n",
              "      <td>0.000000e+00</td>\n",
              "      <td>2.000000e+00</td>\n",
              "      <td>1.000000e+00</td>\n",
              "      <td>1.000000e+00</td>\n",
              "      <td>1.900000e+01</td>\n",
              "      <td>1.100000e+01</td>\n",
              "      <td>1.000000e+00</td>\n",
              "      <td>0.000000e+00</td>\n",
              "      <td>0.000000e+00</td>\n",
              "    </tr>\n",
              "    <tr>\n",
              "      <th>25%</th>\n",
              "      <td>7.000000e+02</td>\n",
              "      <td>7.400000e+01</td>\n",
              "      <td>1.604000e+03</td>\n",
              "      <td>8.023000e+03</td>\n",
              "      <td>1.000000e+00</td>\n",
              "      <td>4.768000e+03</td>\n",
              "      <td>3.000000e+02</td>\n",
              "      <td>9.000000e+01</td>\n",
              "      <td>1.000000e+00</td>\n",
              "      <td>0.000000e+00</td>\n",
              "      <td>0.000000e+00</td>\n",
              "    </tr>\n",
              "    <tr>\n",
              "      <th>50%</th>\n",
              "      <td>8.690000e+02</td>\n",
              "      <td>8.700000e+01</td>\n",
              "      <td>1.611000e+03</td>\n",
              "      <td>8.059000e+03</td>\n",
              "      <td>2.000000e+00</td>\n",
              "      <td>6.826000e+03</td>\n",
              "      <td>3.000000e+02</td>\n",
              "      <td>2.500000e+02</td>\n",
              "      <td>1.000000e+00</td>\n",
              "      <td>0.000000e+00</td>\n",
              "      <td>0.000000e+00</td>\n",
              "    </tr>\n",
              "    <tr>\n",
              "      <th>75%</th>\n",
              "      <td>1.183000e+03</td>\n",
              "      <td>9.400000e+01</td>\n",
              "      <td>1.627000e+03</td>\n",
              "      <td>8.135000e+03</td>\n",
              "      <td>2.000000e+00</td>\n",
              "      <td>9.719000e+03</td>\n",
              "      <td>7.280000e+02</td>\n",
              "      <td>2.500000e+02</td>\n",
              "      <td>2.000000e+00</td>\n",
              "      <td>0.000000e+00</td>\n",
              "      <td>0.000000e+00</td>\n",
              "    </tr>\n",
              "    <tr>\n",
              "      <th>max</th>\n",
              "      <td>2.930000e+03</td>\n",
              "      <td>1.870000e+02</td>\n",
              "      <td>3.210000e+03</td>\n",
              "      <td>1.605400e+04</td>\n",
              "      <td>2.000000e+00</td>\n",
              "      <td>1.531800e+04</td>\n",
              "      <td>1.800000e+03</td>\n",
              "      <td>1.000000e+03</td>\n",
              "      <td>1.820300e+04</td>\n",
              "      <td>6.940000e+02</td>\n",
              "      <td>1.000000e+00</td>\n",
              "    </tr>\n",
              "  </tbody>\n",
              "</table>\n",
              "</div>"
            ],
            "text/plain": [
              "            zone_id      media_id  ...        clicks           ctr\n",
              "count  5.395051e+06  5.395051e+06  ...  5.395051e+06  5.395051e+06\n",
              "mean   1.058986e+03  8.625012e+01  ...  7.590568e-02  2.352945e-02\n",
              "std    6.130215e+02  2.883187e+01  ...  1.310036e+00  1.421493e-01\n",
              "min    1.000000e+00  1.000000e+00  ...  0.000000e+00  0.000000e+00\n",
              "25%    7.000000e+02  7.400000e+01  ...  0.000000e+00  0.000000e+00\n",
              "50%    8.690000e+02  8.700000e+01  ...  0.000000e+00  0.000000e+00\n",
              "75%    1.183000e+03  9.400000e+01  ...  0.000000e+00  0.000000e+00\n",
              "max    2.930000e+03  1.870000e+02  ...  6.940000e+02  1.000000e+00\n",
              "\n",
              "[8 rows x 11 columns]"
            ]
          },
          "metadata": {},
          "execution_count": 8
        }
      ]
    },
    {
      "cell_type": "code",
      "metadata": {
        "colab": {
          "base_uri": "https://localhost:8080/",
          "height": 388
        },
        "id": "w8wakxkNgEdJ",
        "outputId": "22e08b5d-cbaa-41db-8a8d-e103ec472a2a"
      },
      "source": [
        "g = sns.displot(train_data, x=\"ctr\")\n",
        "g.set(title=\"Histogram of CTR\")"
      ],
      "execution_count": null,
      "outputs": [
        {
          "output_type": "execute_result",
          "data": {
            "text/plain": [
              "<seaborn.axisgrid.FacetGrid at 0x7f37e17ea210>"
            ]
          },
          "metadata": {},
          "execution_count": 9
        },
        {
          "output_type": "display_data",
          "data": {
            "image/png": "[encoded data removed]",
            "text/plain": [
              "<Figure size 360x360 with 1 Axes>"
            ]
          },
          "metadata": {}
        }
      ]
    },
    {
      "cell_type": "code",
      "metadata": {
        "colab": {
          "base_uri": "https://localhost:8080/"
        },
        "id": "VQ4KRjTH07f0",
        "outputId": "530646be-ffba-429f-ee2d-e16118cd160b"
      },
      "source": [
        "print(\"Ratio of CTR=0:\", len(train_data[train_data[\"ctr\"]==0])/len(train_data))\n",
        "print(\"Number of samples with CTR non-zero:\", len(train_data[train_data[\"ctr\"]!=0]))"
      ],
      "execution_count": null,
      "outputs": [
        {
          "output_type": "stream",
          "text": [
            "Ratio of CTR=0: 0.9626937724963119\n",
            "Number of samples with CTR non-zero: 201269\n"
          ],
          "name": "stdout"
        }
      ]
    },
    {
      "cell_type": "markdown",
      "metadata": {
        "id": "QEyg_6GG1ZGx"
      },
      "source": [
        "The data is clearly imbalanced"
      ]
    },
    {
      "cell_type": "code",
      "metadata": {
        "colab": {
          "base_uri": "https://localhost:8080/",
          "height": 319
        },
        "id": "loq2LydKgHI1",
        "outputId": "afb59bdc-d83f-43e6-d0a2-3eaa240dca8d"
      },
      "source": [
        "plot_data = train_data.groupby(by=\"country_ref\").size()\n",
        "g = sns.barplot(x=plot_data.index, y=plot_data.values)\n",
        "g.set(title=\"Number of samples by countries\")"
      ],
      "execution_count": null,
      "outputs": [
        {
          "output_type": "execute_result",
          "data": {
            "text/plain": [
              "[Text(0.5, 1.0, 'Number of samples by countries')]"
            ]
          },
          "metadata": {},
          "execution_count": 11
        },
        {
          "output_type": "display_data",
          "data": {
            "image/png": "[encoded data removed]",
            "text/plain": [
              "<Figure size 432x288 with 1 Axes>"
            ]
          },
          "metadata": {}
        }
      ]
    },
    {
      "cell_type": "code",
      "metadata": {
        "colab": {
          "base_uri": "https://localhost:8080/",
          "height": 319
        },
        "id": "cJGAQd1DpFzW",
        "outputId": "026e8046-7d8b-439a-da5d-1fcaab4a14ff"
      },
      "source": [
        "plot_data = train_data.groupby(by=\"country_ref\").ctr.agg(\"mean\")\n",
        "g = sns.barplot(x=plot_data.index, y=plot_data.values)\n",
        "g.set(title=\"CTR by countries\")"
      ],
      "execution_count": null,
      "outputs": [
        {
          "output_type": "execute_result",
          "data": {
            "text/plain": [
              "[Text(0.5, 1.0, 'CTR by countries')]"
            ]
          },
          "metadata": {},
          "execution_count": 12
        },
        {
          "output_type": "display_data",
          "data": {
            "image/png": "[encoded data removed]",
            "text/plain": [
              "<Figure size 432x288 with 1 Axes>"
            ]
          },
          "metadata": {}
        }
      ]
    },
    {
      "cell_type": "code",
      "metadata": {
        "colab": {
          "base_uri": "https://localhost:8080/",
          "height": 315
        },
        "id": "58Ww3kMVqUiK",
        "outputId": "e6358466-9428-4c1a-9aa5-7deb203a611b"
      },
      "source": [
        "plot_data = train_data.groupby(by=\"device\").size()\n",
        "g = sns.barplot(y=plot_data.index, x=plot_data.values, orient=\"h\")\n",
        "g.set(title=\"Number of samples by devices\")"
      ],
      "execution_count": null,
      "outputs": [
        {
          "output_type": "execute_result",
          "data": {
            "text/plain": [
              "[Text(0.5, 1.0, 'Number of samples by devices')]"
            ]
          },
          "metadata": {},
          "execution_count": 13
        },
        {
          "output_type": "display_data",
          "data": {
            "image/png": "[encoded data removed]",
            "text/plain": [
              "<Figure size 432x288 with 1 Axes>"
            ]
          },
          "metadata": {}
        }
      ]
    },
    {
      "cell_type": "code",
      "metadata": {
        "colab": {
          "base_uri": "https://localhost:8080/",
          "height": 302
        },
        "id": "j6R2o9THqiq2",
        "outputId": "0f4ceef7-4800-481a-bbb2-6b18220f2c42"
      },
      "source": [
        "plot_data = train_data.groupby(by=\"device\").ctr.agg(\"mean\")\n",
        "g = sns.barplot(y=plot_data.index, x=plot_data.values, orient=\"h\")\n",
        "g.set(title=\"CTR by devices\")"
      ],
      "execution_count": null,
      "outputs": [
        {
          "output_type": "execute_result",
          "data": {
            "text/plain": [
              "[Text(0.5, 1.0, 'CTR by devices')]"
            ]
          },
          "metadata": {},
          "execution_count": 14
        },
        {
          "output_type": "display_data",
          "data": {
            "image/png": "[encoded data removed]",
            "text/plain": [
              "<Figure size 432x288 with 1 Axes>"
            ]
          },
          "metadata": {}
        }
      ]
    },
    {
      "cell_type": "markdown",
      "metadata": {
        "id": "30O73SYTt68X"
      },
      "source": [
        "# Pre-processing"
      ]
    },
    {
      "cell_type": "code",
      "metadata": {
        "id": "ixFO2F8Wt9ka"
      },
      "source": [
        "# treat missing values as another category\n",
        "def fill_missing_values(df):\n",
        "  # fill missing values in domain by unknown\n",
        "  df[\"domain\"] = df[\"domain\"].fillna(value=\"unknown\")\n",
        "  df[\"visibility\"] = df[\"visibility\"].fillna(value=3)\n",
        "  return df\n",
        "\n",
        "train_data = fill_missing_values(train_data)\n",
        "test_data = fill_missing_values(test_data)"
      ],
      "execution_count": null,
      "outputs": []
    },
    {
      "cell_type": "markdown",
      "metadata": {
        "id": "RSyHCEHf3BIS"
      },
      "source": [
        "# Feature Selection"
      ]
    },
    {
      "cell_type": "code",
      "metadata": {
        "colab": {
          "base_uri": "https://localhost:8080/"
        },
        "id": "yfcmPHLKrodr",
        "outputId": "72433ddc-1dca-4788-f4be-c3f1748dbeb0"
      },
      "source": [
        "categorical_features = [\"date\", \"zone_id\", \"media_id\", \"advertiser_id\", \"campaign_id\",\n",
        "                        \"domain\", \"visibility\", \"ad_id\", \"country_ref\", \"device\"]\n",
        "print(\"Number of unique values by features\")\n",
        "list_unique_values = []\n",
        "for feature in categorical_features:\n",
        "  n_unique_values = len(train_data[feature].unique())\n",
        "  list_unique_values.append(n_unique_values)\n",
        "  print(f\"Feature: {feature}, unique values: {n_unique_values}\")"
      ],
      "execution_count": null,
      "outputs": [
        {
          "output_type": "stream",
          "text": [
            "Number of unique values by features\n",
            "Feature: date, unique values: 8\n",
            "Feature: zone_id, unique values: 2910\n",
            "Feature: media_id, unique values: 187\n",
            "Feature: advertiser_id, unique values: 119\n",
            "Feature: campaign_id, unique values: 503\n",
            "Feature: domain, unique values: 82016\n",
            "Feature: visibility, unique values: 3\n",
            "Feature: ad_id, unique values: 15184\n",
            "Feature: country_ref, unique values: 12\n",
            "Feature: device, unique values: 17\n"
          ],
          "name": "stdout"
        }
      ]
    },
    {
      "cell_type": "markdown",
      "metadata": {
        "id": "ZivfOM4frvrY"
      },
      "source": [
        "There are categorical features with high number of unique values, we can drop them, keep visibility, country_ref and device."
      ]
    },
    {
      "cell_type": "code",
      "metadata": {
        "id": "gzuM9-jm4O2q"
      },
      "source": [
        "# add feature area\n",
        "train_data[\"area\"] = train_data[\"width\"] * train_data[\"height\"]\n",
        "# encode categorical features then stack with numerical features\n",
        "selected_categorical_features = [\"visibility\", \"country_ref\", \"device\"]\n",
        "numerical_features = [\"width\", \"height\", \"area\", \"imps\"]\n",
        "X_train = train_data[selected_categorical_features]\n",
        "ohe = OneHotEncoder(drop=None, handle_unknown=\"ignore\")\n",
        "X_train_ohe = ohe.fit_transform(X_train)\n",
        "X_train_ohe = scipy.sparse.hstack([X_train_ohe, scipy.sparse.csr_matrix(train_data[numerical_features])])\n",
        "Y_train = train_data[\"ctr\"].values"
      ],
      "execution_count": null,
      "outputs": []
    },
    {
      "cell_type": "code",
      "metadata": {
        "colab": {
          "base_uri": "https://localhost:8080/"
        },
        "id": "MkofMBpc3nXN",
        "outputId": "96a81f12-e5d4-4a9e-9845-c29ed2888826"
      },
      "source": [
        "rf_regressor = RandomForestRegressor(n_estimators=10, n_jobs=-1, max_depth=3)\n",
        "rf_regressor.fit(X_train_ohe, Y_train)\n",
        "print(\"R-squared:\", rf_regressor.score(X_train_ohe, Y_train))\n",
        "print(\"Feature importance:\")\n",
        "print(rf_regressor.feature_importances_)"
      ],
      "execution_count": null,
      "outputs": [
        {
          "output_type": "stream",
          "text": [
            "R-squared: 0.012981864336045312\n",
            "Feature importance:\n",
            "[0.         0.         0.         0.         0.         0.\n",
            " 0.         0.         0.         0.         0.         0.\n",
            " 0.         0.         0.         0.         0.2139478  0.\n",
            " 0.         0.         0.         0.         0.03333312 0.\n",
            " 0.         0.         0.         0.         0.         0.\n",
            " 0.         0.         0.23331171 0.0808306  0.42822013 0.01035665]\n"
          ],
          "name": "stdout"
        }
      ]
    },
    {
      "cell_type": "markdown",
      "metadata": {
        "id": "_4tgTT1l6T5C"
      },
      "source": [
        "The first 15 values represent the feature visibility and country_ref. They are zeros meaning there is no contribution in the dependence variable. We can remove them."
      ]
    },
    {
      "cell_type": "code",
      "metadata": {
        "id": "jkrpXoUB7lUH"
      },
      "source": [
        "def feature_transform(df, ohe=None):\n",
        "  df[\"area\"] = df[\"width\"] * df[\"height\"]\n",
        "  selected_categorical_features = [\"device\"]\n",
        "  numerical_features = [\"width\", \"height\", \"area\", \"imps\"]\n",
        "  X = df[selected_categorical_features]\n",
        "  if ohe == None:\n",
        "    ohe = OneHotEncoder(drop=None, handle_unknown=\"ignore\")\n",
        "    ohe.fit(X)\n",
        "  X_ohe = ohe.transform(X)\n",
        "  X_ohe = scipy.sparse.hstack([X_ohe, scipy.sparse.csr_matrix(df[numerical_features])])\n",
        "  return X_ohe, ohe"
      ],
      "execution_count": null,
      "outputs": []
    },
    {
      "cell_type": "markdown",
      "metadata": {
        "id": "ZTEG2EkgNEAP"
      },
      "source": [
        "# Upper bound loss"
      ]
    },
    {
      "cell_type": "code",
      "metadata": {
        "id": "w11EGOHMNGHr"
      },
      "source": [
        "def loss(clicks, imps, pred_ctr):\n",
        "  pred_ctr[pred_ctr == 0] = 1e-10\n",
        "  pred_ctr[pred_ctr == 1] = 1 - 1e-10\n",
        "  nominator = np.sum(np.multiply(clicks, np.log(pred_ctr)) + np.multiply(imps - clicks, np.log(1 - pred_ctr)))\n",
        "  denominator = np.sum(imps)\n",
        "  return - nominator / denominator\n",
        "\n",
        "def plot_loss(clicks, imps):\n",
        "  n_samples = 9\n",
        "  list_clicks = np.empty((n_samples, 1))\n",
        "  list_clicks[:, 0] = clicks\n",
        "  list_imps = np.empty((n_samples, 1))\n",
        "  list_imps[:, 0] = imps\n",
        "  pred_ctr = np.arange(0.1, 1, 0.1).reshape((-1, 1))\n",
        "  loss_vals = [loss(list_clicks[i,:], list_imps[i,:], pred_ctr[i,:]) for i in range(n_samples)]\n",
        "  g = sns.lineplot(x=np.ravel(pred_ctr), y=loss_vals)\n",
        "  g.set(title=f\"imps={imps}, clicks={clicks}\", xlabel=\"predicted ctr\", ylabel=\"loss\")"
      ],
      "execution_count": null,
      "outputs": []
    },
    {
      "cell_type": "code",
      "metadata": {
        "colab": {
          "base_uri": "https://localhost:8080/",
          "height": 301
        },
        "id": "bwrNC7Vt91O-",
        "outputId": "e10d2ff0-670c-413d-f854-ee522eb6637d"
      },
      "source": [
        "plot_loss(clicks=9, imps=10)"
      ],
      "execution_count": null,
      "outputs": [
        {
          "output_type": "display_data",
          "data": {
            "image/png": "[encoded data removed]",
            "text/plain": [
              "<Figure size 432x288 with 1 Axes>"
            ]
          },
          "metadata": {}
        }
      ]
    },
    {
      "cell_type": "markdown",
      "metadata": {
        "id": "mE6kO5sRQsVW"
      },
      "source": [
        "The loss function minimize the difference between true CTR and predicted CTR, it is stronger than MSE."
      ]
    },
    {
      "cell_type": "code",
      "metadata": {
        "colab": {
          "base_uri": "https://localhost:8080/"
        },
        "id": "9sYA5PdwNG-D",
        "outputId": "75e32df5-b2a2-462b-eb50-50692d03a2a6"
      },
      "source": [
        "print(\"The upper bound loss in training set when predicting all CTRs equal zeros\")\n",
        "ctr_pred = np.ones(train_data.shape[0]) * 1e-10\n",
        "print(loss(train_data[\"clicks\"].values, train_data[\"imps\"].values, ctr_pred))"
      ],
      "execution_count": null,
      "outputs": [
        {
          "output_type": "stream",
          "text": [
            "The upper bound loss in training set when predicting all CTRs equal zeros\n",
            "0.5046241637291214\n"
          ],
          "name": "stdout"
        }
      ]
    },
    {
      "cell_type": "markdown",
      "metadata": {
        "id": "cIhOFVXsYpNf"
      },
      "source": [
        "# Baseline model with Linear Regression"
      ]
    },
    {
      "cell_type": "code",
      "metadata": {
        "id": "C9cb7Y0DYleN"
      },
      "source": [
        "X_train, ohe = feature_transform(train_data)\n",
        "X_test, _ = feature_transform(test_data, ohe)\n",
        "\n",
        "ctr = train_data[\"ctr\"].values\n",
        "# avoid devide by zero\n",
        "ctr[ctr == 0] = 1e-10\n",
        "ctr[ctr == 1] = 1 - 1e-10\n",
        "Y_train = np.log(ctr / (1 - ctr))"
      ],
      "execution_count": null,
      "outputs": []
    },
    {
      "cell_type": "code",
      "metadata": {
        "colab": {
          "base_uri": "https://localhost:8080/"
        },
        "id": "NmpCl5Dl6cG4",
        "outputId": "b64c198e-a580-4d67-c509-cf41985f9de5"
      },
      "source": [
        "# search for best params by R square\n",
        "params = {\"alpha\": [1, 3, 5]}\n",
        "lr_model = GridSearchCV(estimator=Ridge(fit_intercept=False), param_grid=params,\n",
        "                        cv=5, n_jobs=-1, refit=True)\n",
        "lr_model.fit(X_train, Y_train)\n",
        "print(\"best params:\", lr_model.best_params_)\n",
        "print(\"best score:\", lr_model.best_score_)\n",
        "\n",
        "# compute loss in training set\n",
        "Y_train_pred = lr_model.predict(X_train)\n",
        "# convert to probability by sigmoid function\n",
        "Y_train_pred = 1 / (1 + np.exp(-Y_train_pred))\n",
        "# evaluate by loss in training set\n",
        "training_loss = loss(train_data[\"clicks\"].values, train_data[\"imps\"].values, Y_train_pred)\n",
        "print(\"Loss in training set:\", training_loss)\n",
        "print(\"Number of predicted CTR in training set greater than 0.3:\", len(Y_train_pred[Y_train_pred > 0.3]))"
      ],
      "execution_count": null,
      "outputs": [
        {
          "output_type": "stream",
          "text": [
            "/usr/local/lib/python3.7/dist-packages/joblib/externals/loky/process_executor.py:691: UserWarning: A worker stopped while some jobs were given to the executor. This can be caused by a too short worker timeout or by a memory leak.\n",
            "  \"timeout or by a memory leak.\", UserWarning\n"
          ],
          "name": "stderr"
        },
        {
          "output_type": "stream",
          "text": [
            "best params: {'alpha': 3}\n",
            "best score: -1.0707149984070847\n",
            "Loss in training set: 0.39654088787556513\n",
            "Number of predicted CTR in training set greater than 0.3: 0\n"
          ],
          "name": "stdout"
        }
      ]
    },
    {
      "cell_type": "markdown",
      "metadata": {
        "id": "DGUhMimKNSwP"
      },
      "source": [
        "R-squared is negative meaning that the model is worse than predicting $\\hat y = \\bar y$"
      ]
    },
    {
      "cell_type": "code",
      "metadata": {
        "id": "LZF3q_F4B6XA"
      },
      "source": [
        "Y_test_prd = lr_model.predict(X_test)\n",
        "# convert to probability by sigmoid function\n",
        "ctr_test_prd = 1 / (1 + np.exp(-Y_test_prd))\n",
        "np.savetxt(\"lr_result.txt\", ctr_test_prd)"
      ],
      "execution_count": null,
      "outputs": []
    },
    {
      "cell_type": "markdown",
      "metadata": {
        "id": "y0nuThul4-u2"
      },
      "source": [
        "# Random Forest Regression"
      ]
    },
    {
      "cell_type": "code",
      "metadata": {
        "id": "VZzgw3PSKMBc"
      },
      "source": [
        "X_train, ohe = feature_transform(train_data)\n",
        "X_test, _ = feature_transform(test_data, ohe)\n",
        "Y_train = train_data[\"ctr\"].values"
      ],
      "execution_count": null,
      "outputs": []
    },
    {
      "cell_type": "code",
      "metadata": {
        "id": "DYk5q7nj5CNk",
        "colab": {
          "base_uri": "https://localhost:8080/"
        },
        "outputId": "60ff3718-da15-4dd6-e54e-a3ee9e06b33b"
      },
      "source": [
        "#train one tree to see how much the depth is\n",
        "tree_regressor = DecisionTreeRegressor()\n",
        "tree_regressor.fit(X_train, Y_train)\n",
        "print(\"Depth of tree:\", tree_regressor.tree_.max_depth)"
      ],
      "execution_count": null,
      "outputs": [
        {
          "output_type": "stream",
          "text": [
            "Depth of tree: 56\n"
          ],
          "name": "stdout"
        }
      ]
    },
    {
      "cell_type": "code",
      "metadata": {
        "colab": {
          "base_uri": "https://localhost:8080/"
        },
        "id": "Pgl-5uaJjGJf",
        "outputId": "3bfaeaac-2279-43cb-c1bf-fe9c990cc18e"
      },
      "source": [
        "# fix number of trees and search for the max_depth\n",
        "estimator = RandomForestRegressor(n_estimators=10, n_jobs=-1)\n",
        "params = {\"max_depth\": [5, 10, 20]}\n",
        "rf_regressor = GridSearchCV(estimator=estimator, param_grid=params, cv=5,\n",
        "                            n_jobs=-1, refit=False)\n",
        "rf_regressor.fit(X_train, Y_train)\n",
        "print(\"best params:\", rf_regressor.best_params_)\n",
        "print(\"best r-squared:\", rf_regressor.best_score_)"
      ],
      "execution_count": null,
      "outputs": [
        {
          "output_type": "stream",
          "text": [
            "best params: {'max_depth': 10}\n",
            "best r-squared: 0.021744724427840346\n"
          ],
          "name": "stdout"
        }
      ]
    },
    {
      "cell_type": "code",
      "metadata": {
        "id": "WKsbgZucC7rL"
      },
      "source": [
        "# fix max_depth and search for the number of trees\n",
        "estimator = RandomForestRegressor(max_depth=10, n_jobs=-1)\n",
        "params = {\"n_estimators\": [50, 100]}\n",
        "rf_regressor = GridSearchCV(estimator=estimator, param_grid=params, cv=5,\n",
        "                            n_jobs=-1, refit=False)\n",
        "rf_regressor.fit(X_train, Y_train)\n",
        "print(\"best params:\", rf_regressor.best_params_)\n",
        "print(\"best r-squared:\", rf_regressor.best_score_)"
      ],
      "execution_count": null,
      "outputs": []
    },
    {
      "cell_type": "markdown",
      "metadata": {
        "id": "tYvfltvqE9jc"
      },
      "source": [
        "best params: {'n_estimators': 20}  \n",
        "best r-squared: 0.019211792063558296  \n",
        "best params: {'n_estimators': 100}  \n",
        "best r-squared: 0.019258856924289237"
      ]
    },
    {
      "cell_type": "code",
      "metadata": {
        "colab": {
          "base_uri": "https://localhost:8080/"
        },
        "id": "f-3EDBTqAkxA",
        "outputId": "b0439757-3f12-4cd7-9e7c-1c6938a4c616"
      },
      "source": [
        "rf_regressor = RandomForestRegressor(n_estimators=100, max_depth=10, n_jobs=-1)\n",
        "rf_regressor.fit(X_train, Y_train)\n",
        "print(\"R-squared score:\", rf_regressor.score(X_train, Y_train))\n",
        "Y_train_pred = rf_regressor.predict(X_train)\n",
        "training_loss = loss(train_data[\"clicks\"].values, train_data[\"imps\"].values, Y_train_pred)\n",
        "print(\"Loss in training set:\", training_loss)\n",
        "print(\"Number of predicted CTR in training set greater than 0.5:\", len(Y_train_pred[Y_train_pred > 0.5]))"
      ],
      "execution_count": null,
      "outputs": [
        {
          "output_type": "stream",
          "text": [
            "R-squared score: 0.022283318145126962\n",
            "Loss in training set: 0.09394393115748326\n",
            "Number of predicted CTR in training set greater than 0.5: 515\n"
          ],
          "name": "stdout"
        }
      ]
    },
    {
      "cell_type": "markdown",
      "metadata": {
        "id": "rBo1l4UljrQL"
      },
      "source": [
        "The result is better than linear regression model. There are predicted CTRs which are greater than 0.5."
      ]
    },
    {
      "cell_type": "code",
      "metadata": {
        "id": "wp43rW4yOkBw"
      },
      "source": [
        "Y_test_prd = rf_regressor.predict(X_test)\n",
        "np.savetxt(\"rf_result.txt\", Y_test_prd)"
      ],
      "execution_count": null,
      "outputs": []
    },
    {
      "cell_type": "markdown",
      "metadata": {
        "id": "6BWRG0y7dQSP"
      },
      "source": [
        "# XGBoost"
      ]
    },
    {
      "cell_type": "code",
      "metadata": {
        "id": "ApR80LGddVBl"
      },
      "source": [
        "import xgboost as xgb\n",
        "from sklearn.metrics import r2_score"
      ],
      "execution_count": null,
      "outputs": []
    },
    {
      "cell_type": "code",
      "metadata": {
        "id": "spSQIZrDjzeT"
      },
      "source": [
        "def feature_transform(df, ohe=None):\n",
        "  df[\"area\"] = df[\"width\"] * df[\"height\"]\n",
        "  selected_categorical_features = [\"media_id\", \"advertiser_id\", \"device\",\n",
        "                                   \"country_ref\", \"visibility\"]\n",
        "  numerical_features = [\"width\", \"height\", \"area\", \"imps\"]\n",
        "  X = df[selected_categorical_features]\n",
        "  if ohe == None:\n",
        "    ohe = OneHotEncoder(drop=None, handle_unknown=\"ignore\")\n",
        "    ohe.fit(X)\n",
        "  X_ohe = ohe.transform(X)\n",
        "  X_ohe = scipy.sparse.hstack([X_ohe, scipy.sparse.csr_matrix(df[numerical_features])])\n",
        "  return X_ohe, ohe"
      ],
      "execution_count": null,
      "outputs": []
    },
    {
      "cell_type": "code",
      "metadata": {
        "id": "PekW_eqLkkqX",
        "colab": {
          "base_uri": "https://localhost:8080/"
        },
        "outputId": "f5987deb-dcaa-4500-c3ee-ad74187a7e4f"
      },
      "source": [
        "X_train, ohe = feature_transform(train_data)\n",
        "X_test, _ = feature_transform(test_data, ohe)\n",
        "Y_train = train_data[\"ctr\"].values\n",
        "print(X_train.shape)\n",
        "print(X_test.shape)"
      ],
      "execution_count": null,
      "outputs": [
        {
          "output_type": "stream",
          "text": [
            "(5395051, 342)\n",
            "(2019086, 342)\n"
          ],
          "name": "stdout"
        }
      ]
    },
    {
      "cell_type": "code",
      "metadata": {
        "colab": {
          "base_uri": "https://localhost:8080/"
        },
        "id": "XmGRrs3EnDp7",
        "outputId": "70d0a688-179c-48e8-ef6d-1cd7a8df081d"
      },
      "source": [
        "# tune the number of trees and max depth\n",
        "estimater = xgb.XGBRegressor(learning_rate=0.3, objective=\"reg:logistic\",\n",
        "                             tree_method=\"gpu_hist\", n_jobs=-1, booster=\"gbtree\")\n",
        "params = {\"n_estimators\": [100, 150, 200], \"max_depth\": [5, 7, 10]}\n",
        "gridsearch_cv = GridSearchCV(estimater, param_grid=params, scoring=\"r2\",\n",
        "                             cv=5, n_jobs=-1, refit=False)\n",
        "gridsearch_cv.fit(X_train, Y_train)\n",
        "print(\"best params:\", gridsearch_cv.best_params_)\n",
        "print(\"best r-squared:\", gridsearch_cv.best_score_)"
      ],
      "execution_count": null,
      "outputs": [
        {
          "output_type": "stream",
          "text": [
            "/usr/local/lib/python3.7/dist-packages/joblib/externals/loky/process_executor.py:691: UserWarning: A worker stopped while some jobs were given to the executor. This can be caused by a too short worker timeout or by a memory leak.\n",
            "  \"timeout or by a memory leak.\", UserWarning\n"
          ],
          "name": "stderr"
        },
        {
          "output_type": "stream",
          "text": [
            "best params: {'max_depth': 10, 'n_estimators': 200}\n",
            "best r-squared: 0.07168975337437919\n"
          ],
          "name": "stdout"
        }
      ]
    },
    {
      "cell_type": "code",
      "metadata": {
        "colab": {
          "base_uri": "https://localhost:8080/"
        },
        "id": "cvLI0s6wqVIz",
        "outputId": "f6e24327-a7d2-4cac-c7d9-caedc4a15227"
      },
      "source": [
        "# tune learning_rate\n",
        "estimater = xgb.XGBRegressor(n_estimators=200, max_depth=10, objective=\"reg:logistic\",\n",
        "                             tree_method=\"gpu_hist\", n_jobs=-1)\n",
        "params = {\"learning_rate\": [0.1, 0.3, 0.4]}\n",
        "gridsearch_cv = GridSearchCV(estimater, param_grid=params, scoring=\"r2\",\n",
        "                             cv=5, n_jobs=-1, refit=False)\n",
        "gridsearch_cv.fit(X_train, Y_train)\n",
        "print(\"best params:\", gridsearch_cv.best_params_)\n",
        "print(\"best r-squared:\", gridsearch_cv.best_score_)"
      ],
      "execution_count": null,
      "outputs": [
        {
          "output_type": "stream",
          "text": [
            "best params: {'learning_rate': 0.4}\n",
            "best r-squared: 0.07186517609181169\n"
          ],
          "name": "stdout"
        }
      ]
    },
    {
      "cell_type": "code",
      "metadata": {
        "colab": {
          "base_uri": "https://localhost:8080/"
        },
        "id": "moCYD3OZt5WH",
        "outputId": "dbcb2a5d-d3ca-4a6d-c1dd-a4824c7f6861"
      },
      "source": [
        "# tune regularization\n",
        "estimater = xgb.XGBRegressor(n_estimators=200, max_depth=10, learning_rate=0.4,\n",
        "                             objective=\"reg:logistic\", tree_method=\"gpu_hist\", n_jobs=-1, booster=\"gbtree\")\n",
        "params = {\"reg_lambda\": [1, 3, 5]}\n",
        "gridsearch_cv = GridSearchCV(estimater, param_grid=params, scoring=\"r2\",\n",
        "                             cv=5, n_jobs=-1, refit=False)\n",
        "gridsearch_cv.fit(X_train, Y_train)\n",
        "print(\"best params:\", gridsearch_cv.best_params_)\n",
        "print(\"best r-squared:\", gridsearch_cv.best_score_)"
      ],
      "execution_count": null,
      "outputs": [
        {
          "output_type": "stream",
          "text": [
            "best params: {'reg_lambda': 3}\n",
            "best r-squared: 0.07201304220823321\n"
          ],
          "name": "stdout"
        }
      ]
    },
    {
      "cell_type": "code",
      "metadata": {
        "colab": {
          "base_uri": "https://localhost:8080/"
        },
        "id": "YnQGAYwkhfRU",
        "outputId": "f1d66798-4fc2-46db-ed31-19e3910aa1cf"
      },
      "source": [
        "xgb_regressor = xgb.XGBRegressor(n_estimators=200, max_depth=10, learning_rate=0.4, reg_lambda=3,\n",
        "                                 objective=\"reg:logistic\", tree_method=\"gpu_hist\", n_jobs=-1, booster=\"gbtree\")\n",
        "xgb_regressor.fit(X_train, Y_train)\n",
        "Y_train_pred = xgb_regressor.predict(X_train)\n",
        "print(\"R-squared:\", r2_score(Y_train, Y_train_pred))\n",
        "print(\"Loss:\", loss(train_data[\"clicks\"].values, train_data[\"imps\"].values, Y_train_pred))\n",
        "print(\"Number of predicted CTR in training set greater than 0.5:\", len(Y_train_pred[Y_train_pred > 0.5]))"
      ],
      "execution_count": null,
      "outputs": [
        {
          "output_type": "stream",
          "text": [
            "R-squared: 0.08477285036702309\n",
            "Loss: 0.081893303468141\n",
            "Number of predicted CTR in training set greater than 0.5: 4069\n"
          ],
          "name": "stdout"
        }
      ]
    },
    {
      "cell_type": "markdown",
      "metadata": {
        "id": "XYPy-oqeBDCg"
      },
      "source": [
        "XGBoost has better performance than Random Forest"
      ]
    },
    {
      "cell_type": "code",
      "metadata": {
        "id": "EWUcuaWmxLAu"
      },
      "source": [
        "Y_test_prd = xgb_regressor.predict(X_test)\n",
        "np.savetxt(\"xgb_result.txt\", Y_test_prd)"
      ],
      "execution_count": null,
      "outputs": []
    },
    {
      "cell_type": "markdown",
      "metadata": {
        "id": "kLMjADkjkZYQ"
      },
      "source": [
        "# Factorization Machine"
      ]
    },
    {
      "cell_type": "code",
      "metadata": {
        "id": "OGEdm5IcTKZ6"
      },
      "source": [
        "from sklearn.preprocessing import KBinsDiscretizer\n",
        "from sklearn.preprocessing import OrdinalEncoder\n",
        "import itertools\n",
        "import tensorflow as tf\n",
        "from keras.layers import Input, Embedding, Dense, Flatten, Activation, Dot, Add\n",
        "from keras.models import Model\n",
        "from keras.regularizers import l2 as l2_reg\n",
        "from keras.losses import Loss"
      ],
      "execution_count": null,
      "outputs": []
    },
    {
      "cell_type": "code",
      "metadata": {
        "colab": {
          "base_uri": "https://localhost:8080/",
          "height": 299
        },
        "id": "kTKtSL5tU8JU",
        "outputId": "821fa9e4-14df-45e0-bbb0-f4e01c08e4c3"
      },
      "source": [
        "train_data[\"area\"] = train_data[\"width\"] * train_data[\"height\"]\n",
        "numerical_features = [\"width\", \"height\", \"area\", \"imps\"]\n",
        "train_data[numerical_features].describe()"
      ],
      "execution_count": null,
      "outputs": [
        {
          "output_type": "execute_result",
          "data": {
            "text/html": [
              "<div>\n",
              "<style scoped>\n",
              "    .dataframe tbody tr th:only-of-type {\n",
              "        vertical-align: middle;\n",
              "    }\n",
              "\n",
              "    .dataframe tbody tr th {\n",
              "        vertical-align: top;\n",
              "    }\n",
              "\n",
              "    .dataframe thead th {\n",
              "        text-align: right;\n",
              "    }\n",
              "</style>\n",
              "<table border=\"1\" class=\"dataframe\">\n",
              "  <thead>\n",
              "    <tr style=\"text-align: right;\">\n",
              "      <th></th>\n",
              "      <th>width</th>\n",
              "      <th>height</th>\n",
              "      <th>area</th>\n",
              "      <th>imps</th>\n",
              "    </tr>\n",
              "  </thead>\n",
              "  <tbody>\n",
              "    <tr>\n",
              "      <th>count</th>\n",
              "      <td>5.395051e+06</td>\n",
              "      <td>5.395051e+06</td>\n",
              "      <td>5.395051e+06</td>\n",
              "      <td>5.395051e+06</td>\n",
              "    </tr>\n",
              "    <tr>\n",
              "      <th>mean</th>\n",
              "      <td>4.388122e+02</td>\n",
              "      <td>2.712985e+02</td>\n",
              "      <td>1.074521e+05</td>\n",
              "      <td>3.463554e+00</td>\n",
              "    </tr>\n",
              "    <tr>\n",
              "      <th>std</th>\n",
              "      <td>2.883020e+02</td>\n",
              "      <td>2.115282e+02</td>\n",
              "      <td>2.134108e+05</td>\n",
              "      <td>3.100167e+01</td>\n",
              "    </tr>\n",
              "    <tr>\n",
              "      <th>min</th>\n",
              "      <td>1.900000e+01</td>\n",
              "      <td>1.100000e+01</td>\n",
              "      <td>2.090000e+02</td>\n",
              "      <td>1.000000e+00</td>\n",
              "    </tr>\n",
              "    <tr>\n",
              "      <th>25%</th>\n",
              "      <td>3.000000e+02</td>\n",
              "      <td>9.000000e+01</td>\n",
              "      <td>6.552000e+04</td>\n",
              "      <td>1.000000e+00</td>\n",
              "    </tr>\n",
              "    <tr>\n",
              "      <th>50%</th>\n",
              "      <td>3.000000e+02</td>\n",
              "      <td>2.500000e+02</td>\n",
              "      <td>7.500000e+04</td>\n",
              "      <td>1.000000e+00</td>\n",
              "    </tr>\n",
              "    <tr>\n",
              "      <th>75%</th>\n",
              "      <td>7.280000e+02</td>\n",
              "      <td>2.500000e+02</td>\n",
              "      <td>7.500000e+04</td>\n",
              "      <td>2.000000e+00</td>\n",
              "    </tr>\n",
              "    <tr>\n",
              "      <th>max</th>\n",
              "      <td>1.800000e+03</td>\n",
              "      <td>1.000000e+03</td>\n",
              "      <td>1.800000e+06</td>\n",
              "      <td>1.820300e+04</td>\n",
              "    </tr>\n",
              "  </tbody>\n",
              "</table>\n",
              "</div>"
            ],
            "text/plain": [
              "              width        height          area          imps\n",
              "count  5.395051e+06  5.395051e+06  5.395051e+06  5.395051e+06\n",
              "mean   4.388122e+02  2.712985e+02  1.074521e+05  3.463554e+00\n",
              "std    2.883020e+02  2.115282e+02  2.134108e+05  3.100167e+01\n",
              "min    1.900000e+01  1.100000e+01  2.090000e+02  1.000000e+00\n",
              "25%    3.000000e+02  9.000000e+01  6.552000e+04  1.000000e+00\n",
              "50%    3.000000e+02  2.500000e+02  7.500000e+04  1.000000e+00\n",
              "75%    7.280000e+02  2.500000e+02  7.500000e+04  2.000000e+00\n",
              "max    1.800000e+03  1.000000e+03  1.800000e+06  1.820300e+04"
            ]
          },
          "metadata": {},
          "execution_count": 48
        }
      ]
    },
    {
      "cell_type": "code",
      "metadata": {
        "id": "akK-Qopkk68J"
      },
      "source": [
        "def fm_feature_transform(df, cat_features, num_features, ode=None, kbd=None,\n",
        "                         n_bins=None):\n",
        "  df[\"area\"] = df[\"width\"] * df[\"height\"]\n",
        "  X_cat = df[cat_features].values\n",
        "  if ode == None:\n",
        "    ode = OrdinalEncoder(handle_unknown=\"use_encoded_value\", unknown_value=np.nan)\n",
        "    ode.fit(X_cat)\n",
        "  X_cat = ode.transform(X_cat)\n",
        "\n",
        "  X_num = df[num_features].values\n",
        "  if kbd == None:\n",
        "    kbd = KBinsDiscretizer(n_bins=n_bins, encode=\"ordinal\")\n",
        "    kbd.fit(X_num)\n",
        "  X_num = kbd.transform(X_num)\n",
        "  X = np.hstack((X_cat, X_num))\n",
        "  return X, ode, kbd"
      ],
      "execution_count": null,
      "outputs": []
    },
    {
      "cell_type": "code",
      "metadata": {
        "id": "WztAEASCu2X1",
        "colab": {
          "base_uri": "https://localhost:8080/"
        },
        "outputId": "b5cde5ed-cd8e-492c-e9d9-a0de74645574"
      },
      "source": [
        "cat_features = [\"media_id\", \"advertiser_id\", \"device\", \"country_ref\", \"visibility\"]\n",
        "num_features = [\"width\", \"height\", \"area\", \"imps\"]\n",
        "# use 10 bins for each numerical feature\n",
        "n_bins = [10, 10, 10, 10]\n",
        "X_train, ode, kbd = fm_feature_transform(train_data, cat_features, num_features,\n",
        "                                         ode=None, kbd=None, n_bins=n_bins)\n",
        "X_test,_,_ = fm_feature_transform(test_data, cat_features, num_features, ode, kbd)\n",
        "max_cat_features = [len(train_data[f].unique()) for f in cat_features]\n",
        "max_features = np.concatenate((max_cat_features, kbd.n_bins_))\n",
        "\n",
        "Y_train = train_data[\"ctr\"].values\n",
        "print(X_train.shape)\n",
        "print(X_test.shape)"
      ],
      "execution_count": null,
      "outputs": [
        {
          "output_type": "stream",
          "text": [
            "/usr/local/lib/python3.7/dist-packages/sklearn/preprocessing/_discretization.py:222: UserWarning: Bins whose width are too small (i.e., <= 1e-8) in feature 0 are removed. Consider decreasing the number of bins.\n",
            "  'decreasing the number of bins.' % jj)\n",
            "/usr/local/lib/python3.7/dist-packages/sklearn/preprocessing/_discretization.py:222: UserWarning: Bins whose width are too small (i.e., <= 1e-8) in feature 1 are removed. Consider decreasing the number of bins.\n",
            "  'decreasing the number of bins.' % jj)\n",
            "/usr/local/lib/python3.7/dist-packages/sklearn/preprocessing/_discretization.py:222: UserWarning: Bins whose width are too small (i.e., <= 1e-8) in feature 2 are removed. Consider decreasing the number of bins.\n",
            "  'decreasing the number of bins.' % jj)\n",
            "/usr/local/lib/python3.7/dist-packages/sklearn/preprocessing/_discretization.py:222: UserWarning: Bins whose width are too small (i.e., <= 1e-8) in feature 3 are removed. Consider decreasing the number of bins.\n",
            "  'decreasing the number of bins.' % jj)\n"
          ],
          "name": "stderr"
        },
        {
          "output_type": "stream",
          "text": [
            "(5395051, 9)\n",
            "(2019086, 9)\n"
          ],
          "name": "stdout"
        }
      ]
    },
    {
      "cell_type": "code",
      "metadata": {
        "id": "9WV2HtLLYPfM"
      },
      "source": [
        "class CustomLoss(Loss):\n",
        "  def call(self, y_true, y_pred):\n",
        "    ln_y_pred = tf.math.log(y_pred)\n",
        "    one_minus_y_true = tf.math.subtract(1.0, y_true)\n",
        "    ln_1_minus_y_pred = tf.math.log(tf.math.subtract(1.0, y_pred))\n",
        "    \n",
        "    first_term = tf.math.negative(tf.math.multiply(y_true, ln_y_pred))\n",
        "    second_term = tf.math.negative(tf.math.multiply(one_minus_y_true, ln_1_minus_y_pred))\n",
        "    return tf.reduce_mean(first_term + second_term)\n",
        "\n",
        "def build_model(max_features, embedding_dim=8, l2=0.0, l2_fm=0.0):\n",
        "  inputs = []\n",
        "  flatten_layers=[]\n",
        "  columns = range(len(max_features))\n",
        "  for c in columns:\n",
        "    inputs_c = Input(shape=(1,), dtype='int32', name='input_%s'%c)\n",
        "    num_c = max_features[c]\n",
        "    embed_c = Embedding(num_c, embedding_dim, input_length=1, name='embed_%s'%c,\n",
        "                        embeddings_regularizer=l2_reg(l2_fm))(inputs_c)\n",
        "    flatten_c = Flatten()(embed_c)\n",
        "    inputs.append(inputs_c)\n",
        "    flatten_layers.append(flatten_c)\n",
        "\n",
        "  fm_layers = []\n",
        "  for emb1, emb2 in itertools.combinations(flatten_layers, 2):\n",
        "    dot_layer = Dot(axes=1)([emb1, emb2])\n",
        "    fm_layers.append(dot_layer)\n",
        "\n",
        "  for c in columns:\n",
        "    num_c = max_features[c]\n",
        "    embed_c = Embedding(num_c, 1, input_length=1, name = 'linear_%s'%c,\n",
        "                        embeddings_regularizer=l2_reg(l2))(inputs[c])\n",
        "    flatten_c = Flatten()(embed_c)\n",
        "    fm_layers.append(flatten_c)\n",
        "\n",
        "  flatten = Add()(fm_layers)\n",
        "  outputs = Activation('sigmoid', name='outputs')(flatten)\n",
        "\n",
        "  model = Model(inputs=inputs, outputs=outputs)\n",
        "  model.compile(optimizer=\"adam\", loss=CustomLoss())\n",
        "  return model"
      ],
      "execution_count": null,
      "outputs": []
    },
    {
      "cell_type": "code",
      "metadata": {
        "id": "zflqlw57e0tY"
      },
      "source": [
        "model = build_model(max_features, embedding_dim=8, l2=0.01, l2_fm=0.01)\n",
        "# model.summary()"
      ],
      "execution_count": null,
      "outputs": []
    },
    {
      "cell_type": "code",
      "metadata": {
        "colab": {
          "base_uri": "https://localhost:8080/"
        },
        "id": "JYwX1gtmfIbT",
        "outputId": "1560c5f2-6641-4d31-825b-9b29600cf5e0"
      },
      "source": [
        "X_train_ = [X_train[:,i] for i in range(X_train.shape[1])]\n",
        "model.fit(X_train_, Y_train, batch_size=512, epochs=3, validation_split=0.3)"
      ],
      "execution_count": null,
      "outputs": [
        {
          "output_type": "stream",
          "text": [
            "Epoch 1/3\n",
            "7377/7377 [==============================] - 96s 12ms/step - loss: 0.1668 - val_loss: 0.1563\n",
            "Epoch 2/3\n",
            "7377/7377 [==============================] - 88s 12ms/step - loss: 0.1561 - val_loss: 0.1563\n",
            "Epoch 3/3\n",
            "7377/7377 [==============================] - 89s 12ms/step - loss: 0.1561 - val_loss: 0.1563\n"
          ],
          "name": "stdout"
        },
        {
          "output_type": "execute_result",
          "data": {
            "text/plain": [
              "<keras.callbacks.History at 0x7f37393a7950>"
            ]
          },
          "metadata": {},
          "execution_count": 74
        }
      ]
    },
    {
      "cell_type": "code",
      "metadata": {
        "colab": {
          "base_uri": "https://localhost:8080/"
        },
        "id": "bowZUhzniAn9",
        "outputId": "9b03d3ab-fbb5-4087-c2c5-6c1a989a22ff"
      },
      "source": [
        "Y_train_pred = model.predict(X_train_, batch_size=512)\n",
        "Y_train_pred = np.ravel(Y_train_pred)\n",
        "print(\"Loss:\", loss(train_data[\"clicks\"].values, train_data[\"imps\"].values, Y_train_pred))\n",
        "print(\"Number of predicted CTR in training set greater than 0.5:\", len(Y_train_pred[Y_train_pred > 0.5]))"
      ],
      "execution_count": null,
      "outputs": [
        {
          "output_type": "stream",
          "text": [
            "Loss: 0.119994880966001\n",
            "Number of predicted CTR in training set greater than 0.5: 0\n"
          ],
          "name": "stdout"
        }
      ]
    },
    {
      "cell_type": "code",
      "metadata": {
        "id": "xnjOq6uzffiK"
      },
      "source": [
        "X_test_ = [X_test[:,i] for i in range(X_test.shape[1])]\n",
        "Y_test_pred = model.predict(X_test_, batch_size=512)\n",
        "Y_test_pred = np.ravel(Y_test_pred)\n",
        "np.savetxt(\"fm_result.txt\", Y_test_prd)"
      ],
      "execution_count": null,
      "outputs": []
    }
  ]
}